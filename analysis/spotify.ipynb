{
 "cells": [
  {
   "attachments": {},
   "cell_type": "markdown",
   "metadata": {},
   "source": [
    "# spotify api"
   ]
  },
  {
   "cell_type": "code",
   "execution_count": 3,
   "metadata": {},
   "outputs": [
    {
     "data": {
      "text/plain": [
       "True"
      ]
     },
     "execution_count": 3,
     "metadata": {},
     "output_type": "execute_result"
    }
   ],
   "source": [
    "# dotenv\n",
    "\n",
    "from dotenv import load_dotenv\n",
    "\n",
    "load_dotenv()"
   ]
  },
  {
   "cell_type": "code",
   "execution_count": 14,
   "metadata": {},
   "outputs": [
    {
     "name": "stdout",
     "output_type": "stream",
     "text": [
      "track    : Stairway to Heaven - Remaster\n",
      "audio    : https://p.scdn.co/mp3-preview/fc80a280376d5142c888475bd8fdcd00b4fc8d7d?cid=a72c81f2c5354b86a8bfa5000236d2f3\n",
      "cover art: https://i.scdn.co/image/ab67616d0000b273c8a11e48c91a982d086afc69\n",
      "\n",
      "track    : Immigrant Song - Remaster\n",
      "audio    : https://p.scdn.co/mp3-preview/e5910b86cc788766388cca1c494094e39186aa1e?cid=a72c81f2c5354b86a8bfa5000236d2f3\n",
      "cover art: https://i.scdn.co/image/ab67616d0000b27390a50cfe99a4c19ff3cbfbdb\n",
      "\n",
      "track    : Whole Lotta Love - 1990 Remaster\n",
      "audio    : https://p.scdn.co/mp3-preview/f3765a6c5b194302c6e7fffc31ba21e2bd616cf6?cid=a72c81f2c5354b86a8bfa5000236d2f3\n",
      "cover art: https://i.scdn.co/image/ab67616d0000b273fc4f17340773c6c3579fea0d\n",
      "\n",
      "track    : Black Dog - Remaster\n",
      "audio    : https://p.scdn.co/mp3-preview/f82af31817a7ec198a709e68f0f0f9edfc9a7e81?cid=a72c81f2c5354b86a8bfa5000236d2f3\n",
      "cover art: https://i.scdn.co/image/ab67616d0000b273c8a11e48c91a982d086afc69\n",
      "\n",
      "track    : Rock and Roll - Remaster\n",
      "audio    : https://p.scdn.co/mp3-preview/6ce49759af47a1eb104e05dac1938d79ddb15ebd?cid=a72c81f2c5354b86a8bfa5000236d2f3\n",
      "cover art: https://i.scdn.co/image/ab67616d0000b273c8a11e48c91a982d086afc69\n",
      "\n",
      "track    : Ramble On - 1990 Remaster\n",
      "audio    : https://p.scdn.co/mp3-preview/6b06102e8b3cf22d49834f443f7870f7f1bbdbb4?cid=a72c81f2c5354b86a8bfa5000236d2f3\n",
      "cover art: https://i.scdn.co/image/ab67616d0000b273fc4f17340773c6c3579fea0d\n",
      "\n",
      "track    : Good Times Bad Times - 1993 Remaster\n",
      "audio    : https://p.scdn.co/mp3-preview/9d54ac8d655aebf2920de790b421ba13e3508d5b?cid=a72c81f2c5354b86a8bfa5000236d2f3\n",
      "cover art: https://i.scdn.co/image/ab67616d0000b2736f2f499c1df1f210c9b34b32\n",
      "\n",
      "track    : Kashmir - Remaster\n",
      "audio    : https://p.scdn.co/mp3-preview/64908f0ca685e8727a2f07615ee147d28adbc450?cid=a72c81f2c5354b86a8bfa5000236d2f3\n",
      "cover art: https://i.scdn.co/image/ab67616d0000b273765b0617b572bdd1dbdc7d8e\n",
      "\n",
      "track    : Going to California - Remaster\n",
      "audio    : https://p.scdn.co/mp3-preview/85bbb9572e554786b320555e9bab071986fe73de?cid=a72c81f2c5354b86a8bfa5000236d2f3\n",
      "cover art: https://i.scdn.co/image/ab67616d0000b273c8a11e48c91a982d086afc69\n",
      "\n",
      "track    : D'yer Mak'er - Remaster\n",
      "audio    : https://p.scdn.co/mp3-preview/d270345618cefadf336a0c7289601e844099265c?cid=a72c81f2c5354b86a8bfa5000236d2f3\n",
      "cover art: https://i.scdn.co/image/ab67616d0000b2731816adce1d49e35d3ce9a1d1\n",
      "\n"
     ]
    }
   ],
   "source": [
    "import spotipy\n",
    "from spotipy.oauth2 import SpotifyClientCredentials\n",
    "\n",
    "lz_uri = 'spotify:artist:36QJpDe2go2KgaRleHCDTp'\n",
    "\n",
    "spotify = spotipy.Spotify(client_credentials_manager=SpotifyClientCredentials())\n",
    "results = spotify.artist_top_tracks(lz_uri)\n",
    "\n",
    "for track in results['tracks'][:10]:\n",
    "  print('track    : ' + track['name'])\n",
    "  print('audio    : ' + track['preview_url'])\n",
    "  print('cover art: ' + track['album']['images'][0]['url'])\n",
    "  print()\n"
   ]
  }
 ],
 "metadata": {
  "kernelspec": {
   "display_name": ".venv",
   "language": "python",
   "name": "python3"
  },
  "language_info": {
   "codemirror_mode": {
    "name": "ipython",
    "version": 3
   },
   "file_extension": ".py",
   "mimetype": "text/x-python",
   "name": "python",
   "nbconvert_exporter": "python",
   "pygments_lexer": "ipython3",
   "version": "3.10.8"
  },
  "orig_nbformat": 4,
  "vscode": {
   "interpreter": {
    "hash": "6714f50c3f6695eb45ab8f79ba2b7fa175a2428e91429994398620495cd59cfa"
   }
  }
 },
 "nbformat": 4,
 "nbformat_minor": 2
}
