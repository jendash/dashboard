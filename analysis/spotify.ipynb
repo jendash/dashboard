{
 "cells": [
  {
   "attachments": {},
   "cell_type": "markdown",
   "metadata": {},
   "source": [
    "# spotify api"
   ]
  },
  {
   "cell_type": "code",
   "execution_count": 1,
   "metadata": {},
   "outputs": [
    {
     "data": {
      "text/plain": [
       "True"
      ]
     },
     "execution_count": 1,
     "metadata": {},
     "output_type": "execute_result"
    }
   ],
   "source": [
    "# dotenv\n",
    "\n",
    "from dotenv import load_dotenv\n",
    "\n",
    "load_dotenv()"
   ]
  },
  {
   "cell_type": "code",
   "execution_count": 2,
   "metadata": {},
   "outputs": [
    {
     "name": "stdout",
     "output_type": "stream",
     "text": [
      "track    : Stairway to Heaven - Remaster\n",
      "audio    : https://p.scdn.co/mp3-preview/fc80a280376d5142c888475bd8fdcd00b4fc8d7d?cid=a72c81f2c5354b86a8bfa5000236d2f3\n",
      "cover art: https://i.scdn.co/image/ab67616d0000b273c8a11e48c91a982d086afc69\n",
      "\n",
      "track    : Immigrant Song - Remaster\n",
      "audio    : https://p.scdn.co/mp3-preview/e5910b86cc788766388cca1c494094e39186aa1e?cid=a72c81f2c5354b86a8bfa5000236d2f3\n",
      "cover art: https://i.scdn.co/image/ab67616d0000b27390a50cfe99a4c19ff3cbfbdb\n",
      "\n",
      "track    : Whole Lotta Love - 1990 Remaster\n",
      "audio    : https://p.scdn.co/mp3-preview/f3765a6c5b194302c6e7fffc31ba21e2bd616cf6?cid=a72c81f2c5354b86a8bfa5000236d2f3\n",
      "cover art: https://i.scdn.co/image/ab67616d0000b273fc4f17340773c6c3579fea0d\n",
      "\n",
      "track    : Black Dog - Remaster\n",
      "audio    : https://p.scdn.co/mp3-preview/f82af31817a7ec198a709e68f0f0f9edfc9a7e81?cid=a72c81f2c5354b86a8bfa5000236d2f3\n",
      "cover art: https://i.scdn.co/image/ab67616d0000b273c8a11e48c91a982d086afc69\n",
      "\n",
      "track    : Rock and Roll - Remaster\n",
      "audio    : https://p.scdn.co/mp3-preview/6ce49759af47a1eb104e05dac1938d79ddb15ebd?cid=a72c81f2c5354b86a8bfa5000236d2f3\n",
      "cover art: https://i.scdn.co/image/ab67616d0000b273c8a11e48c91a982d086afc69\n",
      "\n",
      "track    : Ramble On - 1990 Remaster\n",
      "audio    : https://p.scdn.co/mp3-preview/6b06102e8b3cf22d49834f443f7870f7f1bbdbb4?cid=a72c81f2c5354b86a8bfa5000236d2f3\n",
      "cover art: https://i.scdn.co/image/ab67616d0000b273fc4f17340773c6c3579fea0d\n",
      "\n",
      "track    : Good Times Bad Times - 1993 Remaster\n",
      "audio    : https://p.scdn.co/mp3-preview/9d54ac8d655aebf2920de790b421ba13e3508d5b?cid=a72c81f2c5354b86a8bfa5000236d2f3\n",
      "cover art: https://i.scdn.co/image/ab67616d0000b2736f2f499c1df1f210c9b34b32\n",
      "\n",
      "track    : Kashmir - Remaster\n",
      "audio    : https://p.scdn.co/mp3-preview/64908f0ca685e8727a2f07615ee147d28adbc450?cid=a72c81f2c5354b86a8bfa5000236d2f3\n",
      "cover art: https://i.scdn.co/image/ab67616d0000b273765b0617b572bdd1dbdc7d8e\n",
      "\n",
      "track    : Going to California - Remaster\n",
      "audio    : https://p.scdn.co/mp3-preview/85bbb9572e554786b320555e9bab071986fe73de?cid=a72c81f2c5354b86a8bfa5000236d2f3\n",
      "cover art: https://i.scdn.co/image/ab67616d0000b273c8a11e48c91a982d086afc69\n",
      "\n",
      "track    : D'yer Mak'er - Remaster\n",
      "audio    : https://p.scdn.co/mp3-preview/d270345618cefadf336a0c7289601e844099265c?cid=a72c81f2c5354b86a8bfa5000236d2f3\n",
      "cover art: https://i.scdn.co/image/ab67616d0000b2731816adce1d49e35d3ce9a1d1\n",
      "\n"
     ]
    }
   ],
   "source": [
    "import spotipy\n",
    "from spotipy.oauth2 import SpotifyClientCredentials\n",
    "\n",
    "lz_uri = 'spotify:artist:36QJpDe2go2KgaRleHCDTp'\n",
    "\n",
    "spotify = spotipy.Spotify(client_credentials_manager=SpotifyClientCredentials())\n",
    "results = spotify.artist_top_tracks(lz_uri)\n",
    "\n",
    "for track in results['tracks'][:10]:\n",
    "  print('track    : ' + track['name'])\n",
    "  print('audio    : ' + track['preview_url'])\n",
    "  print('cover art: ' + track['album']['images'][0]['url'])\n",
    "  print()\n"
   ]
  },
  {
   "cell_type": "code",
   "execution_count": 11,
   "metadata": {},
   "outputs": [
    {
     "name": "stdout",
     "output_type": "stream",
     "text": [
      "0 Lewis Watson  –  summer jamz 18\n",
      "1 Joshua Bassett  –  Doppelgänger\n",
      "2 Gabby Barrett  –  I Hope\n",
      "3 Peach Pit  –  Give Up Baby Go\n",
      "4 Peach Pit  –  Shampoo Bottles\n",
      "5 The Strokes  –  The Adults Are Talking\n",
      "6 Peach Pit  –  Tommy's Party\n",
      "7 Gatlin  –  What If I Love You\n",
      "8 Aly & AJ  –  Potential Breakup Song\n",
      "9 Haley Joelle  –  Jealous of Paris\n",
      "10 Taylor Swift  –  Back To December\n",
      "11 Maisie Peters  –  Smile\n",
      "12 Maisie Peters  –  Look At Me Now\n",
      "13 Maisie Peters  –  April Showers\n",
      "14 Thomas Headon  –  Bored\n",
      "15 Annika Bennett  –  Universe\n",
      "16 ABBA  –  My Love, My Life\n",
      "17 Måneskin  –  THE LONELIEST\n",
      "18 Måneskin  –  Beggin'\n",
      "19 Kacey Musgraves  –  camera roll\n"
     ]
    }
   ],
   "source": [
    "from spotipy.oauth2 import SpotifyOAuth\n",
    "\n",
    "scope = \"user-library-read\"\n",
    "\n",
    "sp = spotipy.Spotify(auth_manager=SpotifyOAuth(scope=scope))\n",
    "\n",
    "results = sp.current_user_saved_tracks()\n",
    "\n",
    "for idx, item in enumerate(results['items']):\n",
    "  track = item['track']\n",
    "  print(idx, track['artists'][0]['name'], \" – \", track['name'])\n"
   ]
  },
  {
   "cell_type": "code",
   "execution_count": 29,
   "metadata": {},
   "outputs": [
    {
     "name": "stdout",
     "output_type": "stream",
     "text": [
      "0 Danielle Bradbery  –  Goodbye Summer\n",
      "2023-01-07T00:28:44.544Z\n",
      "1 Caroline Manning  –  I Walked These Streets in November\n",
      "2023-01-07T00:16:07.182Z\n",
      "2 Maddie & Tae  –  Spring Cleaning\n",
      "2023-01-07T00:12:53.967Z\n",
      "3 Alex Markoulis  –  Impossible Year\n",
      "2023-01-07T00:10:21.277Z\n",
      "4 Rascal Flatts  –  Through The Years\n",
      "2023-01-07T00:03:23.954Z\n",
      "5 Yellowcard  –  One Year, Six Months\n",
      "2023-01-06T23:59:13.480Z\n",
      "6 Dylan Rockoff  –  Out of Season\n",
      "2023-01-06T23:53:48.433Z\n",
      "7 Dylan Rockoff  –  Out of Season\n",
      "2023-01-06T23:43:26.588Z\n",
      "8 Ella Fitzgerald  –  April In Paris\n",
      "2023-01-06T23:32:45.425Z\n",
      "9 Foo Fighters  –  Next Year\n",
      "2023-01-06T23:24:50.683Z\n",
      "10 Cody Simpson  –  Summertime of Our Lives\n",
      "2023-01-03T17:49:41.839Z\n",
      "11 Beach Bunny  –  April\n",
      "2023-01-03T17:23:30.928Z\n",
      "12 Lily Talmers  –  Maybe Next Year No. 2\n",
      "2023-01-03T17:20:12.021Z\n",
      "13 Summer Salt  –  April Baby\n",
      "2023-01-03T17:16:04.026Z\n",
      "14 John Travolta  –  Summer Nights - From “Grease”\n",
      "2023-01-03T17:12:09.820Z\n",
      "15 Guns N' Roses  –  November Rain\n",
      "2023-01-03T17:08:31.510Z\n",
      "16 Jonas Brothers  –  Summer Rain\n",
      "2023-01-03T16:59:35.145Z\n",
      "17 Greg Hildreth  –  In Summer - From \"Frozen: The Broadway Musical\"\n",
      "2023-01-03T16:55:20.867Z\n",
      "18 joan  –  cover girl - autumn\n",
      "2023-01-03T16:53:22.412Z\n",
      "19 Rosario Dawson  –  Seasons of Love\n",
      "2023-01-03T16:50:00.749Z\n",
      "20 Sara Bareilles  –  In July\n",
      "2023-01-03T16:46:57.647Z\n",
      "21 Cimorelli  –  Before October's Gone\n",
      "2023-01-03T16:42:52.968Z\n",
      "22 Teddy Beats  –  Summer Day\n",
      "2023-01-03T16:38:54.713Z\n",
      "23 Aubrey Huntsman  –  Strawberry Season\n",
      "2023-01-03T16:35:57.277Z\n",
      "24 Noah Cyrus  –  July (feat. Leon Bridges)\n",
      "2023-01-03T16:32:22.903Z\n",
      "25 Megan Hilty  –  Autumn Leaves / When October Goes (Live)\n",
      "2023-01-03T16:28:45.848Z\n",
      "26 Thomas Bergersen  –  Winterspell\n",
      "2023-01-03T16:22:28.460Z\n",
      "27 Taylor Swift  –  September - Recorded at The Tracking Room Nashville\n",
      "2023-01-03T16:19:07.275Z\n",
      "28 Fall Out Boy  –  Fourth Of July\n",
      "2023-01-03T16:15:59.141Z\n",
      "29 Smith & Thell  –  Year of the Young\n",
      "2023-01-03T16:12:14.301Z\n",
      "30 Smith & Thell  –  Year of the Young\n",
      "2023-01-03T15:12:23.268Z\n",
      "31 Hunter Hayes  –  Rainy Season\n",
      "2023-01-03T15:00:26.378Z\n",
      "32 Leslie Grace  –  Home All Summer (feat. Marc Anthony)\n",
      "2023-01-03T14:53:40.818Z\n",
      "33 Leslie Grace  –  Home All Summer (feat. Marc Anthony)\n",
      "2023-01-03T13:30:34.656Z\n",
      "34 Ricky Montgomery  –  This December\n",
      "2023-01-03T13:03:51.674Z\n",
      "35 Big Red Machine  –  June's a River\n",
      "2023-01-03T12:59:31.997Z\n",
      "36 girl in red  –  we fell in love in october\n",
      "2023-01-03T12:55:04.606Z\n",
      "37 girl in red  –  we fell in love in october\n",
      "2023-01-02T14:38:35.051Z\n",
      "38 Justin Hurwitz  –  Summer Montage / Madeline\n",
      "2023-01-02T14:25:46.513Z\n",
      "39 Bad Bad Hats  –  Year of the Crab\n",
      "2023-01-02T14:23:41.077Z\n",
      "40 Hodera  –  Autumn\n",
      "2023-01-02T14:17:13.756Z\n",
      "41 Sufjan Stevens  –  Fourth of July\n",
      "2023-01-02T14:12:26.708Z\n",
      "42 New West  –  2020\n",
      "2023-01-02T14:07:12.566Z\n",
      "43 New West  –  2020\n",
      "2023-01-01T06:52:04.737Z\n",
      "44 Hudson Freeman  –  Warm Me, Winter\n",
      "2023-01-01T06:40:41.240Z\n",
      "45 Earth, Wind & Fire  –  September\n",
      "2023-01-01T06:35:36.012Z\n",
      "46 Charlie Hickey  –  Springbreaker\n",
      "2023-01-01T06:31:38.985Z\n",
      "47 Seals and Crofts  –  Summer Breeze\n",
      "2023-01-01T06:27:58.623Z\n",
      "48 City Mouth  –  Fall Songs\n",
      "2023-01-01T06:24:32.451Z\n",
      "49 Charlie Hickey  –  Month of September\n",
      "2023-01-01T06:21:16.992Z\n"
     ]
    }
   ],
   "source": [
    "from spotipy.oauth2 import SpotifyOAuth\n",
    "from datetime import datetime, timedelta\n",
    "\n",
    "scope = \"user-read-recently-played\"\n",
    "\n",
    "sp = spotipy.Spotify(auth_manager=SpotifyOAuth(scope=scope))\n",
    "\n",
    "four_weeks_before = datetime.now() - timedelta(weeks=4)\n",
    "four_weeks_before_timestamp = int(datetime.timestamp(four_weeks_before)) * 10000\n",
    "results = sp.current_user_recently_played(before=four_weeks_before_timestamp)\n",
    "\n",
    "for idx, item in enumerate(results['items']):\n",
    "  track = item['track']\n",
    "  print(idx, track['artists'][0]['name'], \" – \", track['name'])\n",
    "  print(item['played_at'])\n"
   ]
  }
 ],
 "metadata": {
  "kernelspec": {
   "display_name": ".venv",
   "language": "python",
   "name": "python3"
  },
  "language_info": {
   "codemirror_mode": {
    "name": "ipython",
    "version": 3
   },
   "file_extension": ".py",
   "mimetype": "text/x-python",
   "name": "python",
   "nbconvert_exporter": "python",
   "pygments_lexer": "ipython3",
   "version": "3.10.8"
  },
  "orig_nbformat": 4,
  "vscode": {
   "interpreter": {
    "hash": "6714f50c3f6695eb45ab8f79ba2b7fa175a2428e91429994398620495cd59cfa"
   }
  }
 },
 "nbformat": 4,
 "nbformat_minor": 2
}
